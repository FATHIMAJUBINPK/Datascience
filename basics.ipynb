{
 "cells": [
  {
   "cell_type": "code",
   "execution_count": null,
   "id": "532638db",
   "metadata": {},
   "outputs": [],
   "source": []
  },
  {
   "cell_type": "code",
   "execution_count": 1,
   "id": "fb654262",
   "metadata": {},
   "outputs": [
    {
     "name": "stdout",
     "output_type": "stream",
     "text": [
      "1\n"
     ]
    }
   ],
   "source": [
    "a=1\n",
    "print(a)"
   ]
  },
  {
   "cell_type": "code",
   "execution_count": null,
   "id": "cb406874",
   "metadata": {},
   "outputs": [],
   "source": [
    "a=int(input(\"enter first number\"))\n",
    "b=int(input(\"enter second number\"))\n",
    "sum=a+b\n",
    "print(sum)\n"
   ]
  },
  {
   "cell_type": "code",
   "execution_count": null,
   "id": "6f1db444",
   "metadata": {},
   "outputs": [],
   "source": [
    "a=\"abc\"\n",
    "type(a)"
   ]
  },
  {
   "cell_type": "code",
   "execution_count": null,
   "id": "0b1e5be3",
   "metadata": {},
   "outputs": [],
   "source": [
    "def function():\n",
    "    mark1=30\n",
    "    mark2=35\n",
    "    mark3=50\n",
    "    sum=mark1+mark2+mark3\n",
    "    avg=(mark1+mark2+mark3)/3\n",
    "    return sum,avg\n",
    "    \n",
    "\n"
   ]
  },
  {
   "cell_type": "code",
   "execution_count": null,
   "id": "6f770c8c",
   "metadata": {},
   "outputs": [],
   "source": [
    "function()"
   ]
  },
  {
   "cell_type": "code",
   "execution_count": null,
   "id": "2445a535",
   "metadata": {},
   "outputs": [],
   "source": [
    "def function1(m1,m2,m3):\n",
    "    sum=m1+m2+m3\n",
    "    avg=(m1+m2+m3)/3\n",
    "    return sum,avg"
   ]
  },
  {
   "cell_type": "code",
   "execution_count": null,
   "id": "812f3c9c",
   "metadata": {},
   "outputs": [],
   "source": [
    "function1(3,4,5)"
   ]
  },
  {
   "cell_type": "code",
   "execution_count": null,
   "id": "c997ecfa",
   "metadata": {},
   "outputs": [],
   "source": [
    "for i in range(0,10):\n",
    "    print(i)"
   ]
  },
  {
   "cell_type": "code",
   "execution_count": null,
   "id": "38684f0e",
   "metadata": {},
   "outputs": [],
   "source": [
    "for i in range(10,0,-1):\n",
    "    print(i)"
   ]
  },
  {
   "cell_type": "code",
   "execution_count": null,
   "id": "8abb0a1e",
   "metadata": {},
   "outputs": [],
   "source": [
    "import math\n",
    "r=2\n",
    "r=math.pi*r*r\n",
    "print(r)"
   ]
  },
  {
   "cell_type": "code",
   "execution_count": null,
   "id": "f0c2457e",
   "metadata": {},
   "outputs": [],
   "source": [
    "from package import pack\n",
    "pack.sum(6,2)\n"
   ]
  },
  {
   "cell_type": "code",
   "execution_count": null,
   "id": "ea69dfc1",
   "metadata": {},
   "outputs": [],
   "source": [
    "import numpy as np\n",
    "a=np.array([1,2,3])\n",
    "a"
   ]
  },
  {
   "cell_type": "code",
   "execution_count": null,
   "id": "3f7fdc3a",
   "metadata": {},
   "outputs": [],
   "source": [
    "z=np.zeros((2,3))\n",
    "z"
   ]
  },
  {
   "cell_type": "code",
   "execution_count": null,
   "id": "4c0dd513",
   "metadata": {},
   "outputs": [],
   "source": [
    "r=np.arange(0,10,2)\n",
    "r"
   ]
  },
  {
   "cell_type": "code",
   "execution_count": null,
   "id": "fe6857c7",
   "metadata": {},
   "outputs": [],
   "source": [
    "b=np.array([4,5,6])\n",
    "a+b"
   ]
  },
  {
   "cell_type": "code",
   "execution_count": null,
   "id": "9fba02e8",
   "metadata": {},
   "outputs": [],
   "source": [
    "a-b"
   ]
  },
  {
   "cell_type": "code",
   "execution_count": null,
   "id": "51b975d1",
   "metadata": {},
   "outputs": [],
   "source": [
    "np.mean(a)"
   ]
  },
  {
   "cell_type": "code",
   "execution_count": null,
   "id": "a489da42",
   "metadata": {},
   "outputs": [],
   "source": [
    "np.max(a)"
   ]
  },
  {
   "cell_type": "code",
   "execution_count": null,
   "id": "fc615c56",
   "metadata": {},
   "outputs": [],
   "source": [
    "c=np.array([\n",
    "    [1,2],\n",
    "    [3,4]\n",
    "])"
   ]
  },
  {
   "cell_type": "code",
   "execution_count": null,
   "id": "53d66d33",
   "metadata": {},
   "outputs": [],
   "source": [
    "c"
   ]
  },
  {
   "cell_type": "code",
   "execution_count": null,
   "id": "dbe69078",
   "metadata": {},
   "outputs": [],
   "source": [
    "d=np.array([\n",
    "    [4,8],\n",
    "    [6,9]\n",
    "])\n"
   ]
  },
  {
   "cell_type": "code",
   "execution_count": null,
   "id": "5883ab08",
   "metadata": {},
   "outputs": [],
   "source": [
    "c+d"
   ]
  },
  {
   "cell_type": "code",
   "execution_count": null,
   "id": "e57ae390",
   "metadata": {},
   "outputs": [],
   "source": [
    "c*d"
   ]
  },
  {
   "cell_type": "code",
   "execution_count": null,
   "id": "9798fc17",
   "metadata": {},
   "outputs": [],
   "source": [
    "a*b"
   ]
  },
  {
   "cell_type": "code",
   "execution_count": null,
   "id": "2c214e42",
   "metadata": {},
   "outputs": [],
   "source": [
    "e=c*d\n",
    "e"
   ]
  },
  {
   "cell_type": "code",
   "execution_count": null,
   "id": "d5ebd011",
   "metadata": {},
   "outputs": [],
   "source": [
    "f=np.dot(c,d)\n",
    "f"
   ]
  },
  {
   "cell_type": "code",
   "execution_count": null,
   "id": "14627922",
   "metadata": {},
   "outputs": [],
   "source": [
    "f.T\n"
   ]
  },
  {
   "cell_type": "code",
   "execution_count": null,
   "id": "748dddfd",
   "metadata": {},
   "outputs": [],
   "source": [
    "print(\"\\n matrix 1:\\n\",c)\n",
    "print(\"\\n matrix 2:\\n\",d)\n",
    "print(\"\\n addition:\\n\",c+d)\n",
    "print(\"\\n substraction:\\n\",c-d)\n",
    "print(\"\\n multiplication (element wise):\\n\",c*d)\n",
    "print(\"\\n multiplication (row x column):\\n\",f)\n",
    "print(\"\\n transpose:\\n\",f.T)"
   ]
  },
  {
   "cell_type": "code",
   "execution_count": null,
   "id": "14a4517d",
   "metadata": {},
   "outputs": [],
   "source": [
    "c"
   ]
  },
  {
   "cell_type": "code",
   "execution_count": null,
   "id": "eff09ea9",
   "metadata": {},
   "outputs": [],
   "source": []
  }
 ],
 "metadata": {
  "kernelspec": {
   "display_name": "Python 3 (ipykernel)",
   "language": "python",
   "name": "python3"
  },
  "language_info": {
   "codemirror_mode": {
    "name": "ipython",
    "version": 3
   },
   "file_extension": ".py",
   "mimetype": "text/x-python",
   "name": "python",
   "nbconvert_exporter": "python",
   "pygments_lexer": "ipython3",
   "version": "3.9.7"
  }
 },
 "nbformat": 4,
 "nbformat_minor": 5
}
